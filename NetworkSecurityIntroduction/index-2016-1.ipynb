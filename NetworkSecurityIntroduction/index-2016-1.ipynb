{
 "cells": [
  {
   "cell_type": "markdown",
   "metadata": {},
   "source": [
    "Basic of Information Security: Concepts, \n",
    "\n",
    "Information Security Management System \n",
    "Process of ISO/IEC27001:2013 \n",
    "Management system of ISO/IEC27001:2013 \n",
    "Security of personal data \n",
    "network layer and security \n",
    "Why we need to setup firewall \n",
    "Implement Firewall \n",
    "\n",
    "Penetration Investigation and solution \n",
    "\n",
    "Management about User's Security \n",
    "\n",
    "Security Design of Software systems \n",
    "\n",
    "Security of Systems Development Life Cycle and Software Development \n",
    "Investigation, authentication within software system \n",
    "Security of Clouding Services \n",
    "Investigation of the security of mobile devices \n",
    "\n",
    "Security problem come from e-mail \n",
    "\n",
    "Safety Network Behavior \n",
    "\n",
    "Security about Internet of Things (IoT) \n"
   ]
  },
  {
   "cell_type": "raw",
   "metadata": {},
   "source": [
    "\n",
    "第一週                    由新聞事件(Pokemon & 一銀事件 & 勒索軟體 )看資訊安全\n",
    "                                說明資訊安全定義及後續八週課程概要\n",
    "第二週                    說明國際資訊安全標準與發展(管理系統標準簡介)\n",
    "第三週                    資訊安全管理系統(ISO27001)與風險管理(ISO31000 & ISO 27005等)標準重點摘要介紹(配合部分電影片段)\n",
    "第四週                    透過影片或TED演講影片探討網路攻擊之資訊安全技術\n",
    "第五週                    網路安全架構簡介及相關防護機制\n",
    "第六週                    網路攻擊手法探討\n",
    "第七週                    由電影片段看社交工程與社群網路\n",
    "第八週                    個資保護及防護介紹\n",
    "第九週                    課程總結及測驗"
   ]
  },
  {
   "cell_type": "markdown",
   "metadata": {},
   "source": [
    "<div align=\"center\">莊子●列禦寇</div>\n",
    "===\n",
    "<big><big>\n",
    "朱泙漫學屠龍於支離益，殫千金之家，三年技成，而無所用其巧。<br>\n",
    "...<br>\n",
    "\n",
    "Greatest Art, Little Gain.<br>\n",
    "</big></big>\n",
    "\n",
    "\n",
    "``` \n",
    "                            ȯ __\n",
    "    _a' /(     ,>         \\./\\)              o\n",
    "  ~~ }\\ \\(    (             <.\\             '-) \n",
    "    ͝͝  \\(,_(,)'                 .           / /<\n",
    "       _>, _>,             ^^--=-^^     \n",
    "```\n",
    "\n",
    "\n"
   ]
  },
  {
   "cell_type": "markdown",
   "metadata": {},
   "source": [
    "Prelude of the Second Run\n",
    "===\n",
    "[Introduction](U2.ipynb), <br>\n",
    "[Why Python](ScapyAndOthers/scapydemo/WhyPython.ipynb), main tool we choose.\n",
    "\n",
    "1. Internet, the most important environment of computers working on, including data creation, interchanging, sharing, collection; and security problem is always the users' nightmare and becomes more important than ever.\n",
    "- During the left short time, let us study the related topics by using impressive and useful **Python** and **Jupyter IPython platform**, maybe still not effortless on our concerns.\n",
    "   - Try Ansconda Integration to prevant any problem of installation; <font color=\"red\">**note** we can not solve all the problem in the system of installation</font>.\n",
    "- Topics include:\n",
    "  - [Basic Python, the tool we use$^{4,9}$](AutomaticTheStaffWithPython/index.ipynb#Ch06---Manipulating-Strings) data layout, passwork ckeck,\n",
    "  - Internet detect tools \n",
    "    - [TCPIP related$^1$, ](tcp_py/TCPIP.ipynb) ICMP, TCP, ZeroMQ, server/client implement \n",
    "    - [Penetration Testing, port scan$^2$](PythonViolent/PythonViolent/CH2/ch2.ipynb) port scan, ping ips at work,\n",
    "  - data retrieve and investigation\n",
    "    - [Forensic Investigations$^2$](PythonViolent/PythonViolent/CH3/ch3.ipynb) find killer by exploring meta data,\n",
    "    - [Web Scrapy Introduction$^3$](WebScrapingWithPython/python-scraping-master/index.ipynb) Basic of scraper (1), HTML analysis (2), data storing (5), reading web resource, txt,csv,pdf, docx, (6), Image recognition (11), \n",
    "  - log Analysis\n",
    "    - [Network traffic analysis$^2$](apache/nginx-log-analysis.ipynb#Nginx-log-analysis-with-pandas-and-matplotlib), httpd access log analysis and visualization,\n",
    "    - [pcap with log$^6$](pcap/data_hacking-master/index.ipynb#data_hacking) pcap introduction (?)\n",
    "  - [Voyage on Web, read data in detail$^3$](WebScrapingWithPython/python-scraping-master/index.ipynb)\n",
    "  - [Cryptography](PythonCipher/hackingciphers/GermanEnigma.ipynb#Cryptography) Enigma within World War II\n",
    "  - [Descrypted Data and Recognition$^{3,4}$](WebScrapingWithPython/python-scraping-master/index.ipynb)\n",
    "  - [Security Concerns Come from PHP and related$^5$](PHPHacher/hackerPHP.ipynb#Hacker) Server-client's Security Introduction\n",
    "\n"
   ]
  },
  {
   "cell_type": "markdown",
   "metadata": {},
   "source": [
    "References\n",
    "--\n",
    "1. [Bill Lubanovic, Introducing Python, O’Reilly, 2015. (<font color=\"brown\">Python3</font>)](introducing-python-master/Introducing%20Python.pdf)\n",
    "- [T.J. OCannor: Violent Python Violent Python, 1st Edition, 2013. (<font color=\"#ee22ee\">Python2</font>)](PythonViolent/ViolentPython.ipynb)\n",
    "- [Ryan Mitchell, Web Scraping with Python, O’Reilly, 2015. (<font color=\"brown\">Python3</font>)](WebScrapingWithPython/OReilly.Web.Scraping.with.Python.2015.6.pdf)\n",
    "- [Cyrille Rossant, IPython Interactive Computing and Visualization Cookbook, Packt Pub, 2014.](http://localhost:8888/files/Documents/prepare/IPython%20Interactive%20Computing%20and%20Visualization%20Cookbook.pdf)(<font color=\"brown\">Python3</font>)\n",
    "- GIJOE, 網頁程式駭客攻防實戰－以PHP 為例, 旗標出版社, 2007. \n",
    "- [GitHub, data Hacking](https://github.com/ClickSecurity/data_hacking)(<font color=\"#ee22ee\">Python2</font>)\n",
    "- [Al Sweigart, Hacking Secret Ciphers with Python, 2013, (<font color=\"steelblue\">Python2</font>)](PythonCipher/Hacking%20Secret%20Ciphers%20With%20Python%20(April%202015).pdf)\n",
    "- [Bastian Ballmann, Understanding Network Hacks, Springer, 2012, (<font color=\"steelblue\">Python2 and wifi module only for Linux</font>)](PythonHacker/PythonHaching.pdf)\n",
    "- [Al Sweigart, Automate the Boring Stuff with Python, No Starch Press, Inc, 2015. (<font color=\"brown\">Python3</font>)](Automate%20the%20Boring%20Stuff%20with%20Python.pdf)"
   ]
  },
  {
   "cell_type": "code",
   "execution_count": null,
   "metadata": {
    "collapsed": true
   },
   "outputs": [],
   "source": []
  }
 ],
 "metadata": {
  "kernelspec": {
   "display_name": "Python 3",
   "language": "python",
   "name": "python3"
  },
  "language_info": {
   "codemirror_mode": {
    "name": "ipython",
    "version": 3
   },
   "file_extension": ".py",
   "mimetype": "text/x-python",
   "name": "python",
   "nbconvert_exporter": "python",
   "pygments_lexer": "ipython3",
   "version": "3.5.2"
  }
 },
 "nbformat": 4,
 "nbformat_minor": 1
}
