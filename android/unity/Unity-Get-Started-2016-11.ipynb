{
 "cells": [
  {
   "cell_type": "markdown",
   "metadata": {},
   "source": [
    "Virtual Reality \n",
    "===\n",
    "No Problem, **Virtual Reality (VR)** is the hottest spot this year, 2016. Before we continue, there are some necessary requirement for implementing the work:\n",
    "\n",
    "- <a href=\"https://www.google.com/get/cardboard/developers/\">BluePrint of Cardboard</a><br>\n",
    "  <img src=\"imgs/Cardboard_M.png\" width=80% />\n",
    "- <a href=\"http://unity3d.com\"> Unity </a>, Certainly not absent here, 5.5.0b11 (16/11/2016);\n",
    "- <a href=\"https://github.com/googlesamples/cardboard-unity\"> Cardboard SDK for Unity </a>, 1.0.3 (till 16/11/2016).\n",
    "- a little idea, :-)\n",
    "\n",
    "News about Google VR SDK (named GVR-unity-sdk now)(<font color=\"red\">2016</font>)\n",
    "---\n",
    "2016, Google announced  [Google VR SDK in Google IO](GoogleVRSDK.ipynb)"
   ]
  },
  {
   "cell_type": "markdown",
   "metadata": {
    "collapsed": true
   },
   "source": [
    "Unity\n",
    "===\n",
    "Unity is a game development platform that can create both 2D and 3D games. It’s cross platform, so it can be used to develop apps for PC, Mac OS X, consoles, iOS, Android, Windows Phone 8, the web, and more.\n",
    "\n",
    "Unity installation Step by Step\n",
    "---\n",
    "1. Download <a href=\"unity3d.org\">UnityDownloadAssisant</a> from official site, for instance 5.5.0b14 (beta release);\n",
    "- As the assistant's default setting,  install unity:\n",
    "<img src=\"imgs/unity-2016-11-1.png\" width=50% />\n",
    "<img src=\"imgs/unity-2016-11-2.png\" width=50% />\n",
    "<img src=\"imgs/unity-2016-11-3.png\" width=50% />\n",
    "<img src=\"imgs/unity-2016-11-4.png\" width=50% />\n",
    "<img src=\"imgs/unity-2016-11-5.png\" width=50% />\n",
    "<img src=\"imgs/unity-2016-11-6.png\" width=50% /> \n",
    "While installing Unity via its ```Unity Download Assistant```, also install the platform supports you want to make, for instance ios for Apple mobile devices: \n",
    "<img src=\"imgs/unity_download.png\" width=50% />"
   ]
  },
  {
   "cell_type": "markdown",
   "metadata": {},
   "source": [
    "<strike>Make a Virtual Reality Game with Unity For Google Cardboard</strike>\n",
    "---\n",
    "\n",
    "**Prerequisites**\n",
    "- [Cardboard Unity Plugin](https://github.com/googlesamples/cardboard-unity) v.0.6 (01/01/2016)\n",
    "  - Modify the file, <font color=\"blue\">[cardboard-unity/Cardboard/Scripts/]</font>*Cardboard.cs* as follows:\n",
    "    \n",
    "    ```C#\n",
    "    public RenderTexture StereoScreen {\n",
    "    get {\n",
    "      ...\n",
    "      }\n",
    "      return stereoScreen;\n",
    "    }\n",
    "    set {\n",
    "      /// For 5.3.x\n",
    "      if (stereoScreen != null && !stereoScreen.IsCreated()) {\n",
    "          stereoScreen.Create();\n",
    "      }\n",
    "      ///\n",
    "      if (value == stereoScreen) {\n",
    "        return;\n",
    "      }\n",
    "      ...\n",
    "    }\n",
    " \n",
    "    ```\n",
    "- [Cardboard Unity Plugin] v.0.7 (04/15/2016)\n",
    "- [Cardboard Unity Plugin] v.0.8 (05/20/2016)\n"
   ]
  },
  {
   "cell_type": "markdown",
   "metadata": {},
   "source": [
    "GVR Unity SDK\n",
    "---\n",
    "The new name for Google VR SDK for plugin,\n",
    "- [Version 1.0.3 / 2016/11/21](https://github.com/googlevr/gvr-unity-sdk)"
   ]
  },
  {
   "cell_type": "markdown",
   "metadata": {},
   "source": [
    "Brief of Steps of Usinf Unitywith Sample Project \n",
    "---\n",
    "Reference the <a href=\"https://developers.google.com/vr/unity/get-started-android\">official documentation</a>,\n",
    "let us to explore the first Cardboad app by unity:\n",
    "\n",
    "1. Open Unity, creating a new project.\n",
    "<img src=\"imgs/demo-2016-11/demo-2016-11-1.png\" width=80% />\n",
    "- Import the SDK package: **Assets > Import Package > Custom Package**. Select the *GoogleVRSDKForUnity* (<strike>CardboardSDKForUnity</strike>, pre 0,8) unitypackage where you downloaded it and click **Ope**n. Make sure all the boxes are checked in the Importing Package dialog and click **Import**. <u>Note</u>: If you are using Unity 5, you may be warned that the APIs will be automatically upgraded. Accept it and continue if it happens.\n",
    "<img src=\"imgs/demo-2016-11/demo-2016-11-2.png\" width=80% />\n",
    "<img src=\"imgs/demo-2016-11/demo-2016-11-3.png\" width=50% />\n",
    "<img src=\"imgs/demo-2016-11/demo-2016-11-4.png\" width=60% />\n",
    "<img src=\"imgs/demo-2016-11/demo-2016-11-5.png\" width=80% />\n",
    "<img src=\"imgs/demo-2016-11/demo-2016-11-6.png\" width=50% />\n",
    "- In the editor's project pane, navigate to **Assets > Cardboard > DemoScene** folder and open **DemoScene**. You should see a scene with a textured grid plane with a cube floating above it. Also an new option, GoogleVR, appears at the top menu bar.\n",
    "<img src=\"imgs/demo-2016-11/demo-2016-11-7.png\" width=80% />\n",
    "4. Press **Play**, and you should see the game view showing a stereo rendering of a red cube. Press the **Control** key on your keyboard and move your mouse back and forth to tilt your view. You can also press the **option** button (**Alt** button for Windows) on your keyboard and move your mouse to pan around your view of the VR environment.\n"
   ]
  },
  {
   "cell_type": "markdown",
   "metadata": {},
   "source": [
    "Build and Run APP\n",
    "---\n",
    "Building and deploying above demo to mobile app, for instance Andoid:\n",
    "\n",
    "1. In **File > Build Settings**, select **Android** as the platform and  click **Switch Platform**:\n",
    "<img src=\"imgs/demo-2016-11/demo-2016-11-8.png\" width=80% />\n",
    "2. Click Player Settings. Under “Other Settings”, enter a package name into the \"Bundle Identifier\" field (for example, ```com.example.CardboardUnityDemo```). Under “Resolution and Presentation”, change the orientation  “Landscape Left”.\n",
    "<img src=\"imgs/demo-2016-11/demo-2016-11-9.png\" width=40% />\n",
    "<img src=\"imgs/demo-2016-11/demo-2016-11-10.png\" width=40% />\n",
    "3. Click **Build and Run**. If prompted for location of the Android SDK, select unzipped SDK at which it had been installed. If not worked for JDK not found, check Unity preference:\n",
    "<img src=\"imgs/demo-2016-11/demo-2016-11-11.png\" width=80% />\n"
   ]
  },
  {
   "cell_type": "code",
   "execution_count": null,
   "metadata": {
    "collapsed": true
   },
   "outputs": [],
   "source": []
  },
  {
   "cell_type": "code",
   "execution_count": 5,
   "metadata": {
    "collapsed": false
   },
   "outputs": [
    {
     "name": "stdout",
     "output_type": "stream",
     "text": [
      "[NbConvertApp] Converting notebook Unity-Get-Started-2016-11.ipynb to html\n",
      "[NbConvertApp] Writing 258442 bytes to Unity-Get-Started-2016-11.html\n"
     ]
    }
   ],
   "source": [
    "!jupyter nbconvert Unity-Get-Started-2016-11.ipynb"
   ]
  },
  {
   "cell_type": "markdown",
   "metadata": {
    "collapsed": true
   },
   "source": [
    "Google Street View App\n",
    "---\n",
    "1. Add Street View to Skybox,  \n",
    "2. input Latitude/longitude\n",
    "3. get the skybox pictures\n",
    "4. Import FPsControl, Assets -> import package -> Characters\n",
    "5. drag the pictures into Scence"
   ]
  }
 ],
 "metadata": {
  "kernelspec": {
   "display_name": "Python 3",
   "language": "python",
   "name": "python3"
  },
  "language_info": {
   "codemirror_mode": {
    "name": "ipython",
    "version": 3
   },
   "file_extension": ".py",
   "mimetype": "text/x-python",
   "name": "python",
   "nbconvert_exporter": "python",
   "pygments_lexer": "ipython3",
   "version": "3.5.2"
  }
 },
 "nbformat": 4,
 "nbformat_minor": 0
}
